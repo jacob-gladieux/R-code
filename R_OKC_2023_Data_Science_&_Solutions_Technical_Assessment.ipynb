{
  "nbformat": 4,
  "nbformat_minor": 0,
  "metadata": {
    "colab": {
      "provenance": [],
      "collapsed_sections": [],
      "authorship_tag": "ABX9TyOI1mE3bIh5NSPdIgBmq7k1",
      "include_colab_link": true
    },
    "kernelspec": {
      "name": "ir",
      "display_name": "R"
    },
    "language_info": {
      "name": "R"
    }
  },
  "cells": [
    {
      "cell_type": "markdown",
      "metadata": {
        "id": "view-in-github",
        "colab_type": "text"
      },
      "source": [
        "<a href=\"https://colab.research.google.com/github/jacob-gladieux/R-code/blob/main/R_OKC_2023_Data_Science_%26_Solutions_Technical_Assessment.ipynb\" target=\"_parent\"><img src=\"https://colab.research.google.com/assets/colab-badge.svg\" alt=\"Open In Colab\"/></a>"
      ]
    },
    {
      "cell_type": "code",
      "execution_count": 1,
      "metadata": {
        "colab": {
          "base_uri": "https://localhost:8080/"
        },
        "id": "xz51b9QPe9IF",
        "outputId": "2b09c9eb-ef73-4b05-a43d-06bffdee08bc"
      },
      "outputs": [
        {
          "output_type": "stream",
          "name": "stderr",
          "text": [
            "Installing package into ‘/usr/local/lib/R/site-library’\n",
            "(as ‘lib’ is unspecified)\n",
            "\n",
            "Warning message in system(\"timedatectl\", intern = TRUE):\n",
            "“running command 'timedatectl' had status 1”\n",
            "── \u001b[1mAttaching packages\u001b[22m ─────────────────────────────────────── tidyverse 1.3.2 ──\n",
            "\u001b[32m✔\u001b[39m \u001b[34mggplot2\u001b[39m 3.3.6     \u001b[32m✔\u001b[39m \u001b[34mpurrr  \u001b[39m 0.3.4\n",
            "\u001b[32m✔\u001b[39m \u001b[34mtibble \u001b[39m 3.1.7     \u001b[32m✔\u001b[39m \u001b[34mdplyr  \u001b[39m 1.0.9\n",
            "\u001b[32m✔\u001b[39m \u001b[34mtidyr  \u001b[39m 1.2.0     \u001b[32m✔\u001b[39m \u001b[34mstringr\u001b[39m 1.4.1\n",
            "\u001b[32m✔\u001b[39m \u001b[34mreadr  \u001b[39m 2.1.2     \u001b[32m✔\u001b[39m \u001b[34mforcats\u001b[39m 0.5.2\n",
            "── \u001b[1mConflicts\u001b[22m ────────────────────────────────────────── tidyverse_conflicts() ──\n",
            "\u001b[31m✖\u001b[39m \u001b[34mdplyr\u001b[39m::\u001b[32mfilter()\u001b[39m masks \u001b[34mstats\u001b[39m::filter()\n",
            "\u001b[31m✖\u001b[39m \u001b[34mdplyr\u001b[39m::\u001b[32mlag()\u001b[39m    masks \u001b[34mstats\u001b[39m::lag()\n"
          ]
        }
      ],
      "source": [
        "install.packages(\"tidyverse\")\n",
        "library(tidyverse)"
      ]
    },
    {
      "cell_type": "code",
      "source": [
        "df <- read_csv(\"shots_data.csv\")"
      ],
      "metadata": {
        "colab": {
          "base_uri": "https://localhost:8080/"
        },
        "id": "hlhAu9HGjAaS",
        "outputId": "a2702ac5-eda8-4a76-ab7f-aacfdf9e619d"
      },
      "execution_count": 2,
      "outputs": [
        {
          "output_type": "stream",
          "name": "stderr",
          "text": [
            "\u001b[1mRows: \u001b[22m\u001b[34m504\u001b[39m \u001b[1mColumns: \u001b[22m\u001b[34m4\u001b[39m\n",
            "\u001b[36m──\u001b[39m \u001b[1mColumn specification\u001b[22m \u001b[36m────────────────────────────────────────────────────────\u001b[39m\n",
            "\u001b[1mDelimiter:\u001b[22m \",\"\n",
            "\u001b[31mchr\u001b[39m (1): team\n",
            "\u001b[32mdbl\u001b[39m (3): x, y, fgmade\n",
            "\n",
            "\u001b[36mℹ\u001b[39m Use `spec()` to retrieve the full column specification for this data.\n",
            "\u001b[36mℹ\u001b[39m Specify the column types or set `show_col_types = FALSE` to quiet this message.\n"
          ]
        }
      ]
    },
    {
      "cell_type": "code",
      "source": [
        "df"
      ],
      "metadata": {
        "id": "gDCjvtw7jFvl"
      },
      "execution_count": null,
      "outputs": []
    },
    {
      "cell_type": "code",
      "source": [
        "team_a <- filter(df, team == \"Team A\")\n",
        "team_a"
      ],
      "metadata": {
        "id": "dVb2_0N5jHm1"
      },
      "execution_count": null,
      "outputs": []
    },
    {
      "cell_type": "code",
      "source": [
        "team_b <- filter(df, team == \"Team B\")\n",
        "team_b"
      ],
      "metadata": {
        "id": "fG7VHjej96yg"
      },
      "execution_count": null,
      "outputs": []
    },
    {
      "cell_type": "code",
      "source": [
        "#2PT - team a\n",
        "two_pt <- team_a %>% filter((y <= 7.8 & (x <= 22 & x >= -22)) | (y > 7.8 & (x <= 23.75 & x >= -23.75))) \n",
        "two_pt"
      ],
      "metadata": {
        "id": "08k5SCnLnxJk"
      },
      "execution_count": null,
      "outputs": []
    },
    {
      "cell_type": "code",
      "source": [
        "#Proportion of shot attempts that were from the 2pt range.\n",
        "count(two_pt) / count(team_a)"
      ],
      "metadata": {
        "id": "cJw5FXJjpDcj"
      },
      "execution_count": null,
      "outputs": []
    },
    {
      "cell_type": "code",
      "source": [
        "#C3 - team a\n",
        "c_three <- team_a %>% filter((y <= 7.8 & (x < -22 | x > 22))) \n",
        "c_three"
      ],
      "metadata": {
        "id": "0C3j_fWVn0tJ"
      },
      "execution_count": null,
      "outputs": []
    },
    {
      "cell_type": "code",
      "source": [
        "#Proportion of shot attempts that were from the corner 3pt range.\n",
        "count(c_three) / count(team_a)"
      ],
      "metadata": {
        "id": "c04WiwjhpoNh"
      },
      "execution_count": null,
      "outputs": []
    },
    {
      "cell_type": "code",
      "source": [
        "#NC3 - team a\n",
        "nc_three <- team_a %>% filter((y > 7.8 & x < -23.75) | (y > 7.8 & x > 23.75))\n",
        "nc_three"
      ],
      "metadata": {
        "id": "LUoqOO5HjnK9"
      },
      "execution_count": null,
      "outputs": []
    },
    {
      "cell_type": "code",
      "source": [
        "#Proportion of shot attempts that were from the non corner 3pt range.\n",
        "count(nc_three) / count(team_a)"
      ],
      "metadata": {
        "id": "uYml67gwmM65"
      },
      "execution_count": null,
      "outputs": []
    },
    {
      "cell_type": "code",
      "source": [
        "#eFG from 2PT - team a"
      ],
      "metadata": {
        "id": "ChKBg27u_vpM"
      },
      "execution_count": 12,
      "outputs": []
    },
    {
      "cell_type": "code",
      "source": [
        "#eFG from C3 - team a"
      ],
      "metadata": {
        "id": "t6oybdK2_38C"
      },
      "execution_count": 13,
      "outputs": []
    },
    {
      "cell_type": "code",
      "source": [
        "#eFG from NC3 - team a"
      ],
      "metadata": {
        "id": "BPGs1rRl_3t3"
      },
      "execution_count": 14,
      "outputs": []
    },
    {
      "cell_type": "code",
      "source": [
        "#2PT - team b\n",
        "two_ptb <- team_b %>% filter((y <= 7.8 & (x <= 22 & x >= -22)) | (y > 7.8 & (x <= 23.75 & x >= -23.75))) \n",
        "two_ptb"
      ],
      "metadata": {
        "id": "5LxOnREKqv7D"
      },
      "execution_count": null,
      "outputs": []
    },
    {
      "cell_type": "code",
      "source": [
        "#Proportion of shot attempts that were from the 2pt range.\n",
        "count(two_ptb) / count(team_b)"
      ],
      "metadata": {
        "id": "rVAlC7mE-CVH"
      },
      "execution_count": null,
      "outputs": []
    },
    {
      "cell_type": "code",
      "source": [
        "#C3 - team b\n",
        "c_threeb <- team_b %>% filter((y <= 7.8 & (x < -22 | x > 22))) \n",
        "c_threeb"
      ],
      "metadata": {
        "id": "eM3m06bm-SDQ"
      },
      "execution_count": null,
      "outputs": []
    },
    {
      "cell_type": "code",
      "source": [
        "#Proportion of shot attempts that were from the corner 3pt range.\n",
        "count(c_threeb) / count(team_b)"
      ],
      "metadata": {
        "id": "i6QeZMni-R_S"
      },
      "execution_count": null,
      "outputs": []
    },
    {
      "cell_type": "code",
      "source": [
        "#NC3 - team b\n",
        "nc_threeb <- team_b %>% filter((y > 7.8 & x < -23.75) | (y > 7.8 & x > 23.75))\n",
        "nc_threeb"
      ],
      "metadata": {
        "id": "zYerLgdG-Ryt"
      },
      "execution_count": null,
      "outputs": []
    },
    {
      "cell_type": "code",
      "source": [
        "#Proportion of shot attempts that were from the non corner 3pt range.\n",
        "count(nc_threeb) / count(team_b)"
      ],
      "metadata": {
        "id": "tixdxKW6-RiG"
      },
      "execution_count": null,
      "outputs": []
    },
    {
      "cell_type": "code",
      "source": [],
      "metadata": {
        "id": "9rS9GH3XACfz"
      },
      "execution_count": 21,
      "outputs": []
    },
    {
      "cell_type": "code",
      "source": [],
      "metadata": {
        "id": "Kf__ErWRACYL"
      },
      "execution_count": 22,
      "outputs": []
    },
    {
      "cell_type": "code",
      "source": [],
      "metadata": {
        "id": "mbXaZDD9ACLg"
      },
      "execution_count": 23,
      "outputs": []
    }
  ]
}